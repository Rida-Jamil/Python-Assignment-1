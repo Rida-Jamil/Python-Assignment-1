{
 "cells": [
  {
   "cell_type": "markdown",
   "metadata": {},
   "source": [
    "### Question No 1."
   ]
  },
  {
   "cell_type": "markdown",
   "metadata": {},
   "source": [
    "An approach to solve a programming problem by creating objects is called *OBJECT ORIENTED PROGRAMMING*.\n",
    "In this type of programming, programmercan  define the data type of a data structure, and also the types of operations (functions) that can be applied to the data structure."
   ]
  },
  {
   "cell_type": "markdown",
   "metadata": {},
   "source": [
    "### Question No.2\n",
    "\n",
    "#### Benefits of OOP"
   ]
  },
  {
   "cell_type": "markdown",
   "metadata": {},
   "source": [
    "It provides a clear modular structure for programs which makes it good for defining abstract datatypes in which implementation details are hidden.\n",
    "\n",
    "Reusability of objects.\n",
    "\n",
    "It makes a softeare easier to maintain."
   ]
  },
  {
   "cell_type": "markdown",
   "metadata": {},
   "source": [
    "### Question No .3"
   ]
  },
  {
   "cell_type": "markdown",
   "metadata": {},
   "source": [
    "A *function* is a piece of code that is called by name. It can be passed data to operate on (i.e. the parameters) and can optionally return data (the return value). All data that is passed to a function is explicitly passed.\n",
    "\n",
    "A *method* is a piece of code that is called by a name that is associated with an object. "
   ]
  },
  {
   "cell_type": "markdown",
   "metadata": {},
   "source": [
    "### Question No.4"
   ]
  },
  {
   "cell_type": "markdown",
   "metadata": {},
   "source": [
    "#### Class\n",
    "A class is an entity that determines how an object will behave and what the object will contain. In other words, it is a blueprint or a set of instruction to build a specific type of object.\n",
    "\n",
    "#### Object\n",
    "The object is an entity that has state and behavior. It may be any real-world object like the mouse, keyboard, chair, table, pen, etc.\n",
    "\n",
    "#### Attribute\n",
    "Classes and objects have attributes. Attributes are data stored inside a class or instance and represent the state or quality of the class or instance. In short, attributes store information about the instance.\n",
    "\n",
    "#### Behaviour\n",
    "Behavior is the only way objects can do anything to themselves or have anything done to them. A class's behavior determines how an instance of that class operates."
   ]
  },
  {
   "cell_type": "markdown",
   "metadata": {},
   "source": [
    "### Question No 5."
   ]
  },
  {
   "cell_type": "code",
   "execution_count": 7,
   "metadata": {},
   "outputs": [
    {
     "name": "stdout",
     "output_type": "stream",
     "text": [
      "Car 1\n",
      "Alto\n",
      "White\n",
      "2017\n",
      "2013\n",
      "Suzuki\n",
      "\n",
      "\n",
      "Car 2\n",
      "Corolla Indus\n",
      "Black\n",
      "2000\n",
      "2004\n",
      "Toyota\n",
      "\n",
      "\n",
      "Car 3\n",
      "Mehran\n",
      "White\n",
      "2007\n",
      "2009\n",
      "Suzuki\n"
     ]
    }
   ],
   "source": [
    "#class\n",
    "\n",
    "class Car():\n",
    "    def __init__(car, name, color, reg_year, made_in_year, company):\n",
    "        car.name = name\n",
    "        car.color = color\n",
    "        car.reg_year = reg_year\n",
    "        car.made_in_year = made_in_year\n",
    "        car.company = company\n",
    "        \n",
    "\n",
    "# method 1\n",
    "Car1 = Car('Alto', 'White', '2017', '2013', 'Suzuki')\n",
    "print(\"Car 1\")\n",
    "print(Car1.name)\n",
    "print(Car1.color)\n",
    "print(Car1.reg_year)\n",
    "print(Car1.made_in_year)\n",
    "print(Car1.company)\n",
    "print('\\n')\n",
    "\n",
    "#method 2\n",
    "Car2 = Car('Corolla Indus', 'Black', '2000', '2004', 'Toyota')\n",
    "print(\"Car 2\")\n",
    "print(Car2.name)\n",
    "print(Car2.color)\n",
    "print(Car2.reg_year)\n",
    "print(Car2.made_in_year)\n",
    "print(Car2.company)\n",
    "print('\\n')\n",
    "\n",
    "#method 3\n",
    "Car1 = Car('Mehran', 'White', '2007', '2009', 'Suzuki')\n",
    "print(\"Car 3\")\n",
    "print(Car1.name)\n",
    "print(Car1.color)\n",
    "print(Car1.reg_year)\n",
    "print(Car1.made_in_year)\n",
    "print(Car1.company)"
   ]
  },
  {
   "cell_type": "code",
   "execution_count": null,
   "metadata": {},
   "outputs": [],
   "source": []
  }
 ],
 "metadata": {
  "kernelspec": {
   "display_name": "Python 3",
   "language": "python",
   "name": "python3"
  },
  "language_info": {
   "codemirror_mode": {
    "name": "ipython",
    "version": 3
   },
   "file_extension": ".py",
   "mimetype": "text/x-python",
   "name": "python",
   "nbconvert_exporter": "python",
   "pygments_lexer": "ipython3",
   "version": "3.7.4"
  }
 },
 "nbformat": 4,
 "nbformat_minor": 2
}
