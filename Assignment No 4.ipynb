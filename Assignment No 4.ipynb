{
 "cells": [
  {
   "cell_type": "markdown",
   "metadata": {},
   "source": [
    "### Question No.1"
   ]
  },
  {
   "cell_type": "code",
   "execution_count": 6,
   "metadata": {},
   "outputs": [
    {
     "name": "stdout",
     "output_type": "stream",
     "text": [
      "{'First Name': 'Bineesh', 'Last Name': 'Jamil', 'Age': 21, 'City': 'Karachi'}\n"
     ]
    }
   ],
   "source": [
    "student = {\"First Name\": \"Bineesh\",\"Last Name\": \"Jamil\", \"Age\": 21, \"City\": \"Karachi\"}\n",
    "print(student)"
   ]
  },
  {
   "cell_type": "code",
   "execution_count": 7,
   "metadata": {},
   "outputs": [
    {
     "name": "stdout",
     "output_type": "stream",
     "text": [
      "{'First Name': 'Bineesh', 'Last Name': 'Jamil', 'Age': 21, 'City': 'Karachi', 'Qualification': 'High Academic Level'}\n"
     ]
    }
   ],
   "source": [
    "student[\"Qualification\"] = \"High Academic Level\"\n",
    "print(student)"
   ]
  },
  {
   "cell_type": "code",
   "execution_count": 8,
   "metadata": {},
   "outputs": [
    {
     "name": "stdout",
     "output_type": "stream",
     "text": [
      "{'First Name': 'Bineesh', 'Last Name': 'Jamil', 'Age': 21, 'City': 'Karachi'}\n"
     ]
    }
   ],
   "source": [
    "del student[\"Qualification\"]\n",
    "print(student)"
   ]
  },
  {
   "cell_type": "markdown",
   "metadata": {},
   "source": [
    "### Question No.2"
   ]
  },
  {
   "cell_type": "code",
   "execution_count": 5,
   "metadata": {},
   "outputs": [
    {
     "name": "stdout",
     "output_type": "stream",
     "text": [
      "{'Information About': 'Islamabad', 'Country': 'Pakistan', 'Population': '10,950,64', 'fact': 'Capital of Pakistan'}\n",
      "{'Information About': 'Riyadh', 'Country': 'Saudi Arabia', 'Population': '7,070,665', 'fact': 'Capital of Saudi Arabia'}\n",
      "{'Information About': 'Muscat', 'Country': 'Oman', 'Population': '4,000,097', 'fact': 'Capital of Oman'}\n"
     ]
    }
   ],
   "source": [
    "cities = {\n",
    "    \n",
    "    \"Islamabad\": {\n",
    "        \"Information About\":\"Islamabad\",\n",
    "        \"Country\": \"Pakistan\",\n",
    "        \"Population\": \"10,950,64\",\n",
    "        \"fact\":\"Capital of Pakistan\",\n",
    "    },\n",
    "    \n",
    "    \"Riyadh\": {\n",
    "        \"Information About\":\"Riyadh\",\n",
    "        \"Country\": \"Saudi Arabia\",\n",
    "        \"Population\": \"7,070,665\",\n",
    "        \"fact\":\"Capital of Saudi Arabia\",\n",
    "    },\n",
    "    \n",
    "    \"Muscat\": {\n",
    "        \"Information About\":\"Muscat\",\n",
    "        \"Country\": \"Oman\",\n",
    "        \"Population\": \"4,000,097\",\n",
    "        \"fact\":\"Capital of Oman\",\n",
    "    }\n",
    "}\n",
    "\n",
    "print(cities[\"Islamabad\"])\n",
    "print(cities[\"Riyadh\"])\n",
    "print(cities[\"Muscat\"])"
   ]
  },
  {
   "cell_type": "markdown",
   "metadata": {},
   "source": [
    "### Question No.3"
   ]
  },
  {
   "cell_type": "code",
   "execution_count": 4,
   "metadata": {},
   "outputs": [
    {
     "name": "stdout",
     "output_type": "stream",
     "text": [
      "Please enter your age or press q to quit\n",
      "2\n",
      "Hurray, Your ticket is free!\n",
      "Please enter your age or press q to quit\n",
      "7\n",
      "Ticket price is 10$\n",
      "Please enter your age or press q to quit\n",
      "35\n",
      "Ticket price is 15$\n",
      "Please enter your age or press q to quit\n",
      "q\n"
     ]
    }
   ],
   "source": [
    "while True:\n",
    "    age = (input(\"Please enter your age or press q to quit\" + \"\\n\"))\n",
    "    \n",
    "    if age == \"q\":\n",
    "        break\n",
    "    \n",
    "    age = int(age)    \n",
    "    \n",
    "    if age < 3:\n",
    "        print(\"Hurray, Your ticket is free!\")\n",
    "    \n",
    "    elif age >= 3 and age <= 12:\n",
    "        print(\"Ticket price is 10$\")\n",
    "        \n",
    "    elif age > 12:\n",
    "        print(\"Ticket price is 15$\")\n",
    "        \n",
    "    else:\n",
    "        print(\"Please enter correct age!\")\n",
    "    "
   ]
  },
  {
   "cell_type": "markdown",
   "metadata": {},
   "source": [
    "### Question No.4"
   ]
  },
  {
   "cell_type": "code",
   "execution_count": 2,
   "metadata": {},
   "outputs": [
    {
     "name": "stdout",
     "output_type": "stream",
     "text": [
      "One of my favourite books is Mushaf by Nemrah Ahmed\n"
     ]
    }
   ],
   "source": [
    "def favourite_book(title):\n",
    "    print(\"One of my favourite books is Mushaf by Nemrah Ahmed\")\n",
    "    \n",
    "favourite_book(\"Mushaf\")"
   ]
  },
  {
   "cell_type": "markdown",
   "metadata": {},
   "source": [
    "### Question No.5"
   ]
  },
  {
   "cell_type": "code",
   "execution_count": 20,
   "metadata": {},
   "outputs": [
    {
     "name": "stdout",
     "output_type": "stream",
     "text": [
      "Guess the correct number from 0-30\n",
      "23\n",
      "You're going too high\n",
      "\n",
      "Guess the correct number from 0-30\n",
      "15\n",
      "You're going too high\n",
      "\n",
      "Guess the correct number from 0-30\n",
      "9\n",
      "You're going too low\n",
      "\n",
      "You Lost the game!\n",
      "The number was 14\n"
     ]
    }
   ],
   "source": [
    "import random\n",
    "number = random.randrange(0, 31)\n",
    "guess_count = 0\n",
    "\n",
    "while guess_count < 3:\n",
    "    \n",
    "    print(\"Guess the correct number from 0-30\")\n",
    "    user_guess = int(input())\n",
    "    guess_count = guess_count + 1\n",
    "    \n",
    "    if user_guess == number:\n",
    "        print(\"Yayy you got it right!\")\n",
    "        \n",
    "    if user_guess < number:\n",
    "        print(\"You're going too low\" + \"\\n\")\n",
    "        \n",
    "    elif user_guess > number:\n",
    "        print(\"You're going too high\" + \"\\n\")\n",
    "        \n",
    "while guess_count == 3:\n",
    "    print(\"You Lost the game!\")\n",
    "    number = str(number)\n",
    "    print(\"The number was \" + number)\n",
    "    break\n"
   ]
  },
  {
   "cell_type": "code",
   "execution_count": null,
   "metadata": {},
   "outputs": [],
   "source": [
    "#Sir I did questions all by myself. Although I got some help from internet but I tried my best to do it by myself!!"
   ]
  }
 ],
 "metadata": {
  "kernelspec": {
   "display_name": "Python 3",
   "language": "python",
   "name": "python3"
  },
  "language_info": {
   "codemirror_mode": {
    "name": "ipython",
    "version": 3
   },
   "file_extension": ".py",
   "mimetype": "text/x-python",
   "name": "python",
   "nbconvert_exporter": "python",
   "pygments_lexer": "ipython3",
   "version": "3.7.4"
  }
 },
 "nbformat": 4,
 "nbformat_minor": 2
}
