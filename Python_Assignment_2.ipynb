{
 "cells": [
  {
   "cell_type": "code",
   "execution_count": 1,
   "metadata": {},
   "outputs": [
    {
     "name": "stdout",
     "output_type": "stream",
     "text": [
      "Enter Python's Marks: 95\n",
      "Enter Java's Marks: 86\n",
      "Enter Rust's Marks: 76\n",
      "Enter C's Marks: 77\n",
      "Enter WebAssembly's Marks: 89\n",
      "Your obtained marks are:  423\n",
      "Your grade is A+\n"
     ]
    }
   ],
   "source": [
    "#Question No.1\n",
    "\n",
    "python = int(input(\"Enter Python's Marks: \"));\n",
    "java = int(input(\"Enter Java's Marks: \"));\n",
    "rust = int(input(\"Enter Rust's Marks: \"));\n",
    "C = int(input(\"Enter C's Marks: \"));\n",
    "webAssembly = int(input(\"Enter WebAssembly's Marks: \"));\n",
    "\n",
    "marks_obtained = python + java + rust + C + webAssembly;\n",
    "print(\"Your obtained marks are: \", marks_obtained)\n",
    "total_marks = 500;\n",
    "percentage = (marks_obtained / total_marks) * 100;\n",
    "\n",
    "if percentage >= 80:\n",
    "    print(\"Your grade is A+\")\n",
    "elif percentage >= 70 and percentage < 80:\n",
    "    print(\"Your grade is A\")\n",
    "elif percentage >= 60 and percentage < 70:\n",
    "        print(\"Your grade is B\")\n",
    "elif percentage >= 50 and percentage < 60:\n",
    "        print(\"Your grade is C\")\n",
    "elif percentage >= 40 and percentage < 50:\n",
    "            print(\"Your grade is D\")\n",
    "elif percentage >= 30 and percentage < 40:\n",
    "        print(\"Your grade is C\")\n",
    "else:\n",
    "    print(\"Ooops! You failed!\")"
   ]
  },
  {
   "cell_type": "code",
   "execution_count": 2,
   "metadata": {},
   "outputs": [
    {
     "name": "stdout",
     "output_type": "stream",
     "text": [
      "Enter your number: 5\n",
      "You entered an odd number!\n"
     ]
    }
   ],
   "source": [
    "#Question No.2\n",
    "\n",
    "number = int(input(\"Enter your number: \"));\n",
    "if (number % 2) == 0:\n",
    "    print(\"You entered an even number!\")\n",
    "else:\n",
    "    print(\"You entered an odd number!\")"
   ]
  },
  {
   "cell_type": "code",
   "execution_count": 3,
   "metadata": {},
   "outputs": [
    {
     "data": {
      "text/plain": [
       "5"
      ]
     },
     "execution_count": 3,
     "metadata": {},
     "output_type": "execute_result"
    }
   ],
   "source": [
    "#Question No.3\n",
    "\n",
    "listOfStudents = len([\"Anabia\", \"Bineesh\", \"Fazila\", \"Madiha\", \"Rida\"])\n",
    "listOfStudents"
   ]
  },
  {
   "cell_type": "code",
   "execution_count": 4,
   "metadata": {},
   "outputs": [
    {
     "name": "stdout",
     "output_type": "stream",
     "text": [
      "Sum of the given numbers is:  31\n"
     ]
    }
   ],
   "source": [
    "#Question No.4\n",
    "\n",
    "items_In_List= (0,9,0,0,7,8,6,0,1);\n",
    "sum_of_numbers = sum(items_In_List)\n",
    "print(\"Sum of the given numbers is: \", sum_of_numbers)"
   ]
  },
  {
   "cell_type": "code",
   "execution_count": 5,
   "metadata": {},
   "outputs": [
    {
     "name": "stdout",
     "output_type": "stream",
     "text": [
      "Largest item number is:  55\n"
     ]
    }
   ],
   "source": [
    "#Question No.5\n",
    "\n",
    "items_in_list= [0,9,55,34,42,7,8,6,0,1];\n",
    "print(\"Largest item number is: \", max(items_in_list))"
   ]
  },
  {
   "cell_type": "code",
   "execution_count": 6,
   "metadata": {},
   "outputs": [
    {
     "name": "stdout",
     "output_type": "stream",
     "text": [
      "1\n",
      "1\n",
      "2\n",
      "3\n"
     ]
    }
   ],
   "source": [
    "#Question No.6\n",
    "\n",
    "a = [1,1,2,3,5,8,13,21,34,55,89]\n",
    "for i in a:\n",
    "    if i < 5:\n",
    "        print(i)"
   ]
  },
  {
   "cell_type": "code",
   "execution_count": null,
   "metadata": {},
   "outputs": [],
   "source": []
  }
 ],
 "metadata": {
  "kernelspec": {
   "display_name": "Python 3",
   "language": "python",
   "name": "python3"
  },
  "language_info": {
   "codemirror_mode": {
    "name": "ipython",
    "version": 3
   },
   "file_extension": ".py",
   "mimetype": "text/x-python",
   "name": "python",
   "nbconvert_exporter": "python",
   "pygments_lexer": "ipython3",
   "version": "3.7.4"
  }
 },
 "nbformat": 4,
 "nbformat_minor": 2
}
