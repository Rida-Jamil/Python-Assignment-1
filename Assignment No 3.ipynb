{
 "cells": [
  {
   "cell_type": "code",
   "execution_count": 24,
   "metadata": {},
   "outputs": [
    {
     "name": "stdout",
     "output_type": "stream",
     "text": [
      "First Value: 55\n",
      "Operator? /\n",
      "Second Value: 5\n",
      "Answer 11.0\n"
     ]
    }
   ],
   "source": [
    "#Question No.1\n",
    "#Calculator\n",
    "\n",
    "first_value = int(input(\"First Value: \"))\n",
    "operator = input(\"Operator? \")\n",
    "second_value = int(input(\"Second Value: \"))\n",
    "\n",
    "if operator == '+':\n",
    "    result = first_value + second_value\n",
    "    print(\"Answer\", result)\n",
    "elif operator == '-':\n",
    "    result = first_value - second_value\n",
    "    print(\"Answer\", result)\n",
    "elif operator == '*':\n",
    "    result = first_value * second_value\n",
    "    print(\"Answer\", result)\n",
    "elif operator == '/':\n",
    "    result = first_value / second_value\n",
    "    print(\"Answer\", result)\n",
    "elif operator == '%':\n",
    "    result = first_value % second_value\n",
    "    print(\"Answer\", result)\n",
    "else:\n",
    "    print(\"Invalid operator/value!\")"
   ]
  },
  {
   "cell_type": "code",
   "execution_count": 23,
   "metadata": {},
   "outputs": [
    {
     "name": "stdout",
     "output_type": "stream",
     "text": [
      "Enter value: 42\n",
      "There is no such numeric value in the list!\n",
      "There is no such numeric value in the list!\n",
      "There is no such numeric value in the list!\n",
      "There is a numeric value in the list\n"
     ]
    }
   ],
   "source": [
    "#Question No.2\n",
    "\n",
    "list_of_variables = [\"abc\", \"alpha\", 34, 42, \"bravo\", \"charlie\"]\n",
    "numeric_value = int(input(\"Enter value: \"))\n",
    "for a_list in list_of_variables:\n",
    "    if numeric_value == a_list:\n",
    "        print(\"There is a numeric value in the list\")\n",
    "        break\n",
    "    else:\n",
    "        print(\"There is no such numeric value in the list!\")"
   ]
  },
  {
   "cell_type": "code",
   "execution_count": 1,
   "metadata": {},
   "outputs": [
    {
     "name": "stdout",
     "output_type": "stream",
     "text": [
      "{'Name': 'Rida', \"Father's Name\": 'Jamil', 'Course': 'OOP', 'Semester': 'Sixth'}\n"
     ]
    }
   ],
   "source": [
    "#Question No.3\n",
    "\n",
    "student = {\"Name\": \"Rida\",\"Father's Name\": \"Jamil\", \"Course\": \"OOP\"}\n",
    "student[\"Semester\"] = \"Sixth\"\n",
    "print(student)"
   ]
  },
  {
   "cell_type": "code",
   "execution_count": 3,
   "metadata": {},
   "outputs": [
    {
     "name": "stdout",
     "output_type": "stream",
     "text": [
      "200\n"
     ]
    }
   ],
   "source": [
    "#Question No.4\n",
    "\n",
    "addition = {\"Value 1\": 80, \"Value 2\": 60, \"Value 3\": 40, \"Value 4\": 20}\n",
    "print(sum(addition.values()))"
   ]
  },
  {
   "cell_type": "code",
   "execution_count": 22,
   "metadata": {},
   "outputs": [
    {
     "name": "stdout",
     "output_type": "stream",
     "text": [
      "33\n",
      "65\n",
      "563\n"
     ]
    }
   ],
   "source": [
    "#Question No.5\n",
    "\n",
    "my_list = [45, 65, 66, 33, 563, 34, 55, 65, 33, 35,563]\n",
    "my_list.sort()\n",
    "\n",
    "for i in range (len (my_list) -1):\n",
    "    if my_list[i] == my_list[i+1]:\n",
    "        print(my_list[i])"
   ]
  },
  {
   "cell_type": "code",
   "execution_count": 17,
   "metadata": {},
   "outputs": [
    {
     "name": "stdout",
     "output_type": "stream",
     "text": [
      "Key is present in the dictionary\n",
      "Key is not present in the dictionary\n"
     ]
    }
   ],
   "source": [
    "#Question No.6\n",
    "\n",
    "d = {1: 10, 2: 20, 3: 30, 4: 40, 5: 50, 6: 60}\n",
    "\n",
    "def key(x):\n",
    "    if x in d:\n",
    "        print('Key is present in the dictionary')\n",
    "    else:\n",
    "        print('Key is not present in the dictionary')\n",
    "        \n",
    "key(5)\n",
    "key(9)"
   ]
  }
 ],
 "metadata": {
  "kernelspec": {
   "display_name": "Python 3",
   "language": "python",
   "name": "python3"
  },
  "language_info": {
   "codemirror_mode": {
    "name": "ipython",
    "version": 3
   },
   "file_extension": ".py",
   "mimetype": "text/x-python",
   "name": "python",
   "nbconvert_exporter": "python",
   "pygments_lexer": "ipython3",
   "version": "3.7.4"
  }
 },
 "nbformat": 4,
 "nbformat_minor": 2
}
