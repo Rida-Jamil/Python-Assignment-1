{
 "cells": [
  {
   "cell_type": "markdown",
   "metadata": {},
   "source": [
    "### Question No 1:"
   ]
  },
  {
   "cell_type": "code",
   "execution_count": 1,
   "metadata": {},
   "outputs": [
    {
     "name": "stdout",
     "output_type": "stream",
     "text": [
      "Input an integer to compute its factorial: 4\n",
      "24\n"
     ]
    }
   ],
   "source": [
    "def factorial(integer):\n",
    "    if integer == 0:\n",
    "        return 1\n",
    "    \n",
    "    else:\n",
    "        return integer * factorial(integer-1)\n",
    "\n",
    "integer = int(input(\"Input an integer to compute its factorial: \"))\n",
    "print(factorial(integer))"
   ]
  },
  {
   "cell_type": "markdown",
   "metadata": {},
   "source": [
    "### Question No 2:"
   ]
  },
  {
   "cell_type": "code",
   "execution_count": 2,
   "metadata": {},
   "outputs": [
    {
     "name": "stdout",
     "output_type": "stream",
     "text": [
      "Enter your Word or Sentence to count Upper/Lower Case letters: ALPHA bRavo\n",
      "Lower case:  4\n",
      "Upper case:  6\n"
     ]
    }
   ],
   "source": [
    "user = input(\"Enter your Word or Sentence to count Upper/Lower Case letters: \")\n",
    "def text(user):\n",
    "    lower_case = 0\n",
    "    upper_case = 0\n",
    "    \n",
    "    for case in user:\n",
    "        if case.islower():\n",
    "            lower_case += 1\n",
    "        elif case.isupper():\n",
    "            upper_case += 1\n",
    "        else:\n",
    "            pass\n",
    "        \n",
    "    print(\"Lower case: \", lower_case)\n",
    "    print(\"Upper case: \", upper_case)\n",
    "text(user)"
   ]
  },
  {
   "cell_type": "markdown",
   "metadata": {},
   "source": [
    "### Question No 3:"
   ]
  },
  {
   "cell_type": "code",
   "execution_count": 3,
   "metadata": {},
   "outputs": [
    {
     "name": "stdout",
     "output_type": "stream",
     "text": [
      "[2, 4, 6, 8]\n"
     ]
    }
   ],
   "source": [
    "def even_num(l):\n",
    "    num = []\n",
    "    for n in l:\n",
    "        if n % 2 == 0:\n",
    "            num.append(n)\n",
    "    return num\n",
    "print(even_num([1, 2, 3, 4, 5, 6, 7, 8, 9]))"
   ]
  },
  {
   "cell_type": "markdown",
   "metadata": {},
   "source": [
    "### Question No 4:"
   ]
  },
  {
   "cell_type": "code",
   "execution_count": 4,
   "metadata": {},
   "outputs": [
    {
     "name": "stdout",
     "output_type": "stream",
     "text": [
      "True\n"
     ]
    }
   ],
   "source": [
    "def palindrome(ap):\n",
    "    left_side = 0\n",
    "    right_side = len(ap) - 1\n",
    "    \n",
    "    while right_side >= left_side:\n",
    "        if ap[left_side] != ap[right_side]:\n",
    "            return False\n",
    "        else:\n",
    "            left_side += 1\n",
    "            right_side -= 1\n",
    "            return True\n",
    "    \n",
    "print(palindrome(\"nurses run\"))"
   ]
  },
  {
   "cell_type": "markdown",
   "metadata": {},
   "source": [
    "### Question No 5:"
   ]
  },
  {
   "cell_type": "code",
   "execution_count": null,
   "metadata": {},
   "outputs": [],
   "source": [
    "n = int(input(\"Is this a prime number? : \"))\n",
    "def test_prime(n):\n",
    "    if (n==1):\n",
    "        return False\n",
    "    elif (n==2):\n",
    "        return True;\n",
    "    else:\n",
    "        for x in range(2,n):\n",
    "            if(n % x==0):\n",
    "                return False\n",
    "            \n",
    "            return True\n",
    "print(test_prime(n))"
   ]
  },
  {
   "cell_type": "markdown",
   "metadata": {},
   "source": [
    "### Question No 6:"
   ]
  },
  {
   "cell_type": "code",
   "execution_count": 5,
   "metadata": {},
   "outputs": [
    {
     "name": "stdout",
     "output_type": "stream",
     "text": [
      "What did the customer buy?Milk, chocolates, apple, cheese, icecream\n",
      "Shopping list consists of: Milk, chocolates, apple, cheese, icecream\n"
     ]
    }
   ],
   "source": [
    "shopping = input(\"What did the customer buy? \")\n",
    "def user_list(*shopping):\n",
    "    for user in shopping:\n",
    "        print(\"Shopping list consists of: \" + user)\n",
    "        \n",
    "user_list(shopping)"
   ]
  }
 ],
 "metadata": {
  "kernelspec": {
   "display_name": "Python 3",
   "language": "python",
   "name": "python3"
  },
  "language_info": {
   "codemirror_mode": {
    "name": "ipython",
    "version": 3
   },
   "file_extension": ".py",
   "mimetype": "text/x-python",
   "name": "python",
   "nbconvert_exporter": "python",
   "pygments_lexer": "ipython3",
   "version": "3.7.4"
  }
 },
 "nbformat": 4,
 "nbformat_minor": 2
}
